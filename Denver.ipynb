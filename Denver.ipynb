{
 "cells": [
  {
   "cell_type": "markdown",
   "metadata": {},
   "source": [
    "## Loading libraries and dataset"
   ]
  },
  {
   "cell_type": "code",
   "execution_count": 71,
   "metadata": {},
   "outputs": [],
   "source": [
    "import numpy as np\n",
    "import pandas as pd\n",
    "import seaborn as sns\n",
    "import matplotlib.pyplot as plt\n",
    "\n",
    "# To supress the warnings\n",
    "import warnings\n",
    "warnings.filterwarnings(\"ignore\")\n",
    "\n",
    "owners = pd.read_csv(r'C:\\Users\\nick2\\Desktop\\MS\\Denver Broncos\\owners.csv')\n",
    "details = pd.read_csv(r'C:\\Users\\nick2\\Desktop\\MS\\Denver Broncos\\procedure_details.csv')\n",
    "pets = pd.read_csv(r'C:\\Users\\nick2\\Desktop\\MS\\Denver Broncos\\pets.csv')\n",
    "procedures = pd.read_csv(r'C:\\Users\\nick2\\Desktop\\MS\\Denver Broncos\\procedures.csv')"
   ]
  },
  {
   "cell_type": "markdown",
   "metadata": {},
   "source": [
    "# Exploring datasets\n",
    "### 1. Owners"
   ]
  },
  {
   "cell_type": "code",
   "execution_count": 72,
   "metadata": {},
   "outputs": [
    {
     "data": {
      "text/plain": [
       "(89, 8)"
      ]
     },
     "execution_count": 72,
     "metadata": {},
     "output_type": "execute_result"
    }
   ],
   "source": [
    "owners.shape"
   ]
  },
  {
   "cell_type": "code",
   "execution_count": 73,
   "metadata": {},
   "outputs": [
    {
     "data": {
      "text/html": [
       "<div>\n",
       "<style scoped>\n",
       "    .dataframe tbody tr th:only-of-type {\n",
       "        vertical-align: middle;\n",
       "    }\n",
       "\n",
       "    .dataframe tbody tr th {\n",
       "        vertical-align: top;\n",
       "    }\n",
       "\n",
       "    .dataframe thead th {\n",
       "        text-align: right;\n",
       "    }\n",
       "</style>\n",
       "<table border=\"1\" class=\"dataframe\">\n",
       "  <thead>\n",
       "    <tr style=\"text-align: right;\">\n",
       "      <th></th>\n",
       "      <th>OwnerID</th>\n",
       "      <th>Name</th>\n",
       "      <th>Surname</th>\n",
       "      <th>StreetAddress</th>\n",
       "      <th>City</th>\n",
       "      <th>State</th>\n",
       "      <th>StateFull</th>\n",
       "      <th>ZipCode</th>\n",
       "    </tr>\n",
       "  </thead>\n",
       "  <tbody>\n",
       "    <tr>\n",
       "      <th>0</th>\n",
       "      <td>6049</td>\n",
       "      <td>Debbie</td>\n",
       "      <td>Metivier</td>\n",
       "      <td>315 Goff Avenue</td>\n",
       "      <td>Grand Rapids</td>\n",
       "      <td>MI</td>\n",
       "      <td>Michigan</td>\n",
       "      <td>49503</td>\n",
       "    </tr>\n",
       "    <tr>\n",
       "      <th>1</th>\n",
       "      <td>2863</td>\n",
       "      <td>John</td>\n",
       "      <td>Sebastian</td>\n",
       "      <td>3221 Perry Street</td>\n",
       "      <td>Davison</td>\n",
       "      <td>MI</td>\n",
       "      <td>Michigan</td>\n",
       "      <td>48423</td>\n",
       "    </tr>\n",
       "    <tr>\n",
       "      <th>2</th>\n",
       "      <td>3518</td>\n",
       "      <td>Connie</td>\n",
       "      <td>Pauley</td>\n",
       "      <td>1539 Cunningham Court</td>\n",
       "      <td>Bloomfield Township</td>\n",
       "      <td>MI</td>\n",
       "      <td>Michigan</td>\n",
       "      <td>48302</td>\n",
       "    </tr>\n",
       "    <tr>\n",
       "      <th>3</th>\n",
       "      <td>3663</td>\n",
       "      <td>Lena</td>\n",
       "      <td>Haliburton</td>\n",
       "      <td>4217 Twin Oaks Drive</td>\n",
       "      <td>Traverse City</td>\n",
       "      <td>MI</td>\n",
       "      <td>Michigan</td>\n",
       "      <td>49684</td>\n",
       "    </tr>\n",
       "    <tr>\n",
       "      <th>4</th>\n",
       "      <td>1070</td>\n",
       "      <td>Jessica</td>\n",
       "      <td>Velazquez</td>\n",
       "      <td>3861 Woodbridge Lane</td>\n",
       "      <td>Southfield</td>\n",
       "      <td>MI</td>\n",
       "      <td>Michigan</td>\n",
       "      <td>48034</td>\n",
       "    </tr>\n",
       "  </tbody>\n",
       "</table>\n",
       "</div>"
      ],
      "text/plain": [
       "   OwnerID     Name     Surname          StreetAddress                 City  \\\n",
       "0     6049   Debbie    Metivier        315 Goff Avenue         Grand Rapids   \n",
       "1     2863     John   Sebastian      3221 Perry Street              Davison   \n",
       "2     3518   Connie      Pauley  1539 Cunningham Court  Bloomfield Township   \n",
       "3     3663     Lena  Haliburton   4217 Twin Oaks Drive        Traverse City   \n",
       "4     1070  Jessica   Velazquez   3861 Woodbridge Lane           Southfield   \n",
       "\n",
       "  State StateFull  ZipCode  \n",
       "0    MI  Michigan    49503  \n",
       "1    MI  Michigan    48423  \n",
       "2    MI  Michigan    48302  \n",
       "3    MI  Michigan    49684  \n",
       "4    MI  Michigan    48034  "
      ]
     },
     "execution_count": 73,
     "metadata": {},
     "output_type": "execute_result"
    }
   ],
   "source": [
    "owners.head()"
   ]
  },
  {
   "cell_type": "code",
   "execution_count": 74,
   "metadata": {},
   "outputs": [
    {
     "name": "stdout",
     "output_type": "stream",
     "text": [
      "<class 'pandas.core.frame.DataFrame'>\n",
      "RangeIndex: 89 entries, 0 to 88\n",
      "Data columns (total 8 columns):\n",
      "OwnerID          89 non-null int64\n",
      "Name             89 non-null object\n",
      "Surname          89 non-null object\n",
      "StreetAddress    89 non-null object\n",
      "City             89 non-null object\n",
      "State            89 non-null object\n",
      "StateFull        89 non-null object\n",
      "ZipCode          89 non-null int64\n",
      "dtypes: int64(2), object(6)\n",
      "memory usage: 5.6+ KB\n"
     ]
    }
   ],
   "source": [
    "owners.info()"
   ]
  },
  {
   "cell_type": "markdown",
   "metadata": {},
   "source": [
    "### 2. Pets "
   ]
  },
  {
   "cell_type": "code",
   "execution_count": 75,
   "metadata": {},
   "outputs": [
    {
     "data": {
      "text/plain": [
       "(100, 6)"
      ]
     },
     "execution_count": 75,
     "metadata": {},
     "output_type": "execute_result"
    }
   ],
   "source": [
    "pets.shape"
   ]
  },
  {
   "cell_type": "code",
   "execution_count": 76,
   "metadata": {},
   "outputs": [
    {
     "name": "stdout",
     "output_type": "stream",
     "text": [
      "<class 'pandas.core.frame.DataFrame'>\n",
      "RangeIndex: 100 entries, 0 to 99\n",
      "Data columns (total 6 columns):\n",
      "PetID      100 non-null object\n",
      "Name       100 non-null object\n",
      "Kind       100 non-null object\n",
      "Gender     100 non-null object\n",
      "Age        100 non-null int64\n",
      "OwnerID    100 non-null int64\n",
      "dtypes: int64(2), object(4)\n",
      "memory usage: 4.8+ KB\n"
     ]
    }
   ],
   "source": [
    "pets.info()"
   ]
  },
  {
   "cell_type": "code",
   "execution_count": 77,
   "metadata": {},
   "outputs": [
    {
     "data": {
      "text/html": [
       "<div>\n",
       "<style scoped>\n",
       "    .dataframe tbody tr th:only-of-type {\n",
       "        vertical-align: middle;\n",
       "    }\n",
       "\n",
       "    .dataframe tbody tr th {\n",
       "        vertical-align: top;\n",
       "    }\n",
       "\n",
       "    .dataframe thead th {\n",
       "        text-align: right;\n",
       "    }\n",
       "</style>\n",
       "<table border=\"1\" class=\"dataframe\">\n",
       "  <thead>\n",
       "    <tr style=\"text-align: right;\">\n",
       "      <th></th>\n",
       "      <th>PetID</th>\n",
       "      <th>Name</th>\n",
       "      <th>Kind</th>\n",
       "      <th>Gender</th>\n",
       "      <th>Age</th>\n",
       "      <th>OwnerID</th>\n",
       "    </tr>\n",
       "  </thead>\n",
       "  <tbody>\n",
       "    <tr>\n",
       "      <th>0</th>\n",
       "      <td>J6-8562</td>\n",
       "      <td>Blackie</td>\n",
       "      <td>Dog</td>\n",
       "      <td>male</td>\n",
       "      <td>11</td>\n",
       "      <td>5168</td>\n",
       "    </tr>\n",
       "    <tr>\n",
       "      <th>1</th>\n",
       "      <td>Q0-2001</td>\n",
       "      <td>Roomba</td>\n",
       "      <td>Cat</td>\n",
       "      <td>male</td>\n",
       "      <td>9</td>\n",
       "      <td>5508</td>\n",
       "    </tr>\n",
       "    <tr>\n",
       "      <th>2</th>\n",
       "      <td>M0-2904</td>\n",
       "      <td>Simba</td>\n",
       "      <td>Cat</td>\n",
       "      <td>male</td>\n",
       "      <td>1</td>\n",
       "      <td>3086</td>\n",
       "    </tr>\n",
       "    <tr>\n",
       "      <th>3</th>\n",
       "      <td>R3-7551</td>\n",
       "      <td>Keller</td>\n",
       "      <td>Parrot</td>\n",
       "      <td>female</td>\n",
       "      <td>2</td>\n",
       "      <td>7908</td>\n",
       "    </tr>\n",
       "    <tr>\n",
       "      <th>4</th>\n",
       "      <td>P2-7342</td>\n",
       "      <td>Cuddles</td>\n",
       "      <td>Dog</td>\n",
       "      <td>male</td>\n",
       "      <td>13</td>\n",
       "      <td>4378</td>\n",
       "    </tr>\n",
       "  </tbody>\n",
       "</table>\n",
       "</div>"
      ],
      "text/plain": [
       "     PetID     Name    Kind  Gender  Age  OwnerID\n",
       "0  J6-8562  Blackie     Dog    male   11     5168\n",
       "1  Q0-2001   Roomba     Cat    male    9     5508\n",
       "2  M0-2904    Simba     Cat    male    1     3086\n",
       "3  R3-7551   Keller  Parrot  female    2     7908\n",
       "4  P2-7342  Cuddles     Dog    male   13     4378"
      ]
     },
     "execution_count": 77,
     "metadata": {},
     "output_type": "execute_result"
    }
   ],
   "source": [
    "pets.head()"
   ]
  },
  {
   "cell_type": "markdown",
   "metadata": {},
   "source": [
    "### 3. Procedures"
   ]
  },
  {
   "cell_type": "code",
   "execution_count": 78,
   "metadata": {},
   "outputs": [
    {
     "data": {
      "text/plain": [
       "(41, 4)"
      ]
     },
     "execution_count": 78,
     "metadata": {},
     "output_type": "execute_result"
    }
   ],
   "source": [
    "procedures.shape"
   ]
  },
  {
   "cell_type": "code",
   "execution_count": 79,
   "metadata": {},
   "outputs": [
    {
     "name": "stdout",
     "output_type": "stream",
     "text": [
      "<class 'pandas.core.frame.DataFrame'>\n",
      "RangeIndex: 41 entries, 0 to 40\n",
      "Data columns (total 4 columns):\n",
      "PetID               41 non-null object\n",
      "Date                41 non-null object\n",
      "ProcedureType       41 non-null object\n",
      "ProcedureSubCode    41 non-null int64\n",
      "dtypes: int64(1), object(3)\n",
      "memory usage: 1.4+ KB\n"
     ]
    }
   ],
   "source": [
    "procedures.info()"
   ]
  },
  {
   "cell_type": "code",
   "execution_count": 80,
   "metadata": {},
   "outputs": [
    {
     "data": {
      "text/html": [
       "<div>\n",
       "<style scoped>\n",
       "    .dataframe tbody tr th:only-of-type {\n",
       "        vertical-align: middle;\n",
       "    }\n",
       "\n",
       "    .dataframe tbody tr th {\n",
       "        vertical-align: top;\n",
       "    }\n",
       "\n",
       "    .dataframe thead th {\n",
       "        text-align: right;\n",
       "    }\n",
       "</style>\n",
       "<table border=\"1\" class=\"dataframe\">\n",
       "  <thead>\n",
       "    <tr style=\"text-align: right;\">\n",
       "      <th></th>\n",
       "      <th>PetID</th>\n",
       "      <th>Date</th>\n",
       "      <th>ProcedureType</th>\n",
       "      <th>ProcedureSubCode</th>\n",
       "    </tr>\n",
       "  </thead>\n",
       "  <tbody>\n",
       "    <tr>\n",
       "      <th>0</th>\n",
       "      <td>T0-3277</td>\n",
       "      <td>1/22/2016</td>\n",
       "      <td>VACCINATIONS</td>\n",
       "      <td>5</td>\n",
       "    </tr>\n",
       "    <tr>\n",
       "      <th>1</th>\n",
       "      <td>G6-6501</td>\n",
       "      <td>1/29/2016</td>\n",
       "      <td>VACCINATIONS</td>\n",
       "      <td>5</td>\n",
       "    </tr>\n",
       "    <tr>\n",
       "      <th>2</th>\n",
       "      <td>P9-3625</td>\n",
       "      <td>1/30/2016</td>\n",
       "      <td>ORTHOPEDIC</td>\n",
       "      <td>7</td>\n",
       "    </tr>\n",
       "    <tr>\n",
       "      <th>3</th>\n",
       "      <td>F1-1855</td>\n",
       "      <td>2/2/2016</td>\n",
       "      <td>VACCINATIONS</td>\n",
       "      <td>5</td>\n",
       "    </tr>\n",
       "    <tr>\n",
       "      <th>4</th>\n",
       "      <td>S1-2243</td>\n",
       "      <td>2/4/2016</td>\n",
       "      <td>VACCINATIONS</td>\n",
       "      <td>5</td>\n",
       "    </tr>\n",
       "  </tbody>\n",
       "</table>\n",
       "</div>"
      ],
      "text/plain": [
       "     PetID       Date ProcedureType  ProcedureSubCode\n",
       "0  T0-3277  1/22/2016  VACCINATIONS                 5\n",
       "1  G6-6501  1/29/2016  VACCINATIONS                 5\n",
       "2  P9-3625  1/30/2016    ORTHOPEDIC                 7\n",
       "3  F1-1855   2/2/2016  VACCINATIONS                 5\n",
       "4  S1-2243   2/4/2016  VACCINATIONS                 5"
      ]
     },
     "execution_count": 80,
     "metadata": {},
     "output_type": "execute_result"
    }
   ],
   "source": [
    "procedures.head()"
   ]
  },
  {
   "cell_type": "markdown",
   "metadata": {},
   "source": [
    "### 4. Procedure Details"
   ]
  },
  {
   "cell_type": "code",
   "execution_count": 81,
   "metadata": {},
   "outputs": [
    {
     "data": {
      "text/plain": [
       "(41, 4)"
      ]
     },
     "execution_count": 81,
     "metadata": {},
     "output_type": "execute_result"
    }
   ],
   "source": [
    "details.shape"
   ]
  },
  {
   "cell_type": "code",
   "execution_count": 82,
   "metadata": {},
   "outputs": [
    {
     "name": "stdout",
     "output_type": "stream",
     "text": [
      "<class 'pandas.core.frame.DataFrame'>\n",
      "RangeIndex: 41 entries, 0 to 40\n",
      "Data columns (total 4 columns):\n",
      "ProcedureType       41 non-null object\n",
      "ProcedureSubCode    41 non-null int64\n",
      "Description         41 non-null object\n",
      "Price               41 non-null int64\n",
      "dtypes: int64(2), object(2)\n",
      "memory usage: 1.4+ KB\n"
     ]
    }
   ],
   "source": [
    "details.info()"
   ]
  },
  {
   "cell_type": "code",
   "execution_count": 83,
   "metadata": {},
   "outputs": [
    {
     "data": {
      "text/html": [
       "<div>\n",
       "<style scoped>\n",
       "    .dataframe tbody tr th:only-of-type {\n",
       "        vertical-align: middle;\n",
       "    }\n",
       "\n",
       "    .dataframe tbody tr th {\n",
       "        vertical-align: top;\n",
       "    }\n",
       "\n",
       "    .dataframe thead th {\n",
       "        text-align: right;\n",
       "    }\n",
       "</style>\n",
       "<table border=\"1\" class=\"dataframe\">\n",
       "  <thead>\n",
       "    <tr style=\"text-align: right;\">\n",
       "      <th></th>\n",
       "      <th>ProcedureType</th>\n",
       "      <th>ProcedureSubCode</th>\n",
       "      <th>Description</th>\n",
       "      <th>Price</th>\n",
       "    </tr>\n",
       "  </thead>\n",
       "  <tbody>\n",
       "    <tr>\n",
       "      <th>0</th>\n",
       "      <td>OFFICE FEES</td>\n",
       "      <td>1</td>\n",
       "      <td>Office Call</td>\n",
       "      <td>32</td>\n",
       "    </tr>\n",
       "    <tr>\n",
       "      <th>1</th>\n",
       "      <td>OFFICE FEES</td>\n",
       "      <td>2</td>\n",
       "      <td>Emergency</td>\n",
       "      <td>100</td>\n",
       "    </tr>\n",
       "    <tr>\n",
       "      <th>2</th>\n",
       "      <td>OFFICE FEES</td>\n",
       "      <td>3</td>\n",
       "      <td>Reck</td>\n",
       "      <td>24</td>\n",
       "    </tr>\n",
       "    <tr>\n",
       "      <th>3</th>\n",
       "      <td>GROOMING</td>\n",
       "      <td>1</td>\n",
       "      <td>Bath</td>\n",
       "      <td>15</td>\n",
       "    </tr>\n",
       "    <tr>\n",
       "      <th>4</th>\n",
       "      <td>GROOMING</td>\n",
       "      <td>2</td>\n",
       "      <td>Flea Dip</td>\n",
       "      <td>15</td>\n",
       "    </tr>\n",
       "  </tbody>\n",
       "</table>\n",
       "</div>"
      ],
      "text/plain": [
       "  ProcedureType  ProcedureSubCode  Description  Price\n",
       "0   OFFICE FEES                 1  Office Call     32\n",
       "1   OFFICE FEES                 2    Emergency    100\n",
       "2   OFFICE FEES                 3         Reck     24\n",
       "3      GROOMING                 1         Bath     15\n",
       "4      GROOMING                 2     Flea Dip     15"
      ]
     },
     "execution_count": 83,
     "metadata": {},
     "output_type": "execute_result"
    }
   ],
   "source": [
    "details.head()"
   ]
  },
  {
   "cell_type": "markdown",
   "metadata": {},
   "source": [
    "## Data Exploration\n",
    "Let's see how many unique pet ID's, ownerID's, procedure types we have, as these are going to be the keys on which we will be merging the dataframes."
   ]
  },
  {
   "cell_type": "code",
   "execution_count": 84,
   "metadata": {},
   "outputs": [
    {
     "name": "stdout",
     "output_type": "stream",
     "text": [
      "Unique petIDs in pets df: 100\n",
      "Unique petIDs in procedures df: 34\n"
     ]
    }
   ],
   "source": [
    "print('Unique petIDs in pets df: {}'.format(pets['PetID'].unique().shape[0]))\n",
    "print('Unique petIDs in procedures df: {}'.format(procedures['PetID'].unique().shape[0]))"
   ]
  },
  {
   "cell_type": "code",
   "execution_count": 85,
   "metadata": {},
   "outputs": [
    {
     "name": "stdout",
     "output_type": "stream",
     "text": [
      "Unique OwnersIDs in owners df: 89\n",
      "Unique OwnerIDs in pets df: 89\n"
     ]
    }
   ],
   "source": [
    "print('Unique OwnersIDs in owners df: {}'.format(owners['OwnerID'].unique().shape[0]))\n",
    "print('Unique OwnerIDs in pets df: {}'.format(pets['OwnerID'].unique().shape[0]))"
   ]
  },
  {
   "cell_type": "code",
   "execution_count": 86,
   "metadata": {},
   "outputs": [
    {
     "name": "stdout",
     "output_type": "stream",
     "text": [
      "Unique Procedure types in procedures df: 4\n",
      "Unique Procedure types in details df: 6\n"
     ]
    }
   ],
   "source": [
    "print('Unique Procedure types in procedures df: {}'.format(procedures['ProcedureType'].unique().shape[0]))\n",
    "print('Unique Procedure types in details df: {}'.format(details['ProcedureType'].unique().shape[0]))"
   ]
  },
  {
   "cell_type": "code",
   "execution_count": 87,
   "metadata": {},
   "outputs": [
    {
     "name": "stdout",
     "output_type": "stream",
     "text": [
      "['VACCINATIONS' 'ORTHOPEDIC' 'GROOMING' 'GENERAL SURGERIES']\n"
     ]
    },
    {
     "data": {
      "text/plain": [
       "array([ 5,  7,  3,  1,  8,  9, 17], dtype=int64)"
      ]
     },
     "execution_count": 87,
     "metadata": {},
     "output_type": "execute_result"
    }
   ],
   "source": [
    "print(procedures['ProcedureType'].unique())\n",
    "procedures['ProcedureSubCode'].unique()\n"
   ]
  },
  {
   "cell_type": "code",
   "execution_count": 88,
   "metadata": {},
   "outputs": [
    {
     "name": "stdout",
     "output_type": "stream",
     "text": [
      "['OFFICE FEES' 'GROOMING' 'VACCINATIONS' 'HOSPITALIZATION' 'ORTHOPEDIC'\n",
      " 'GENERAL SURGERIES']\n"
     ]
    },
    {
     "data": {
      "text/plain": [
       "array([ 1,  2,  3,  4,  5,  6,  7,  8,  9, 10, 11, 12, 13, 14, 15, 16, 17,\n",
       "       18, 19], dtype=int64)"
      ]
     },
     "execution_count": 88,
     "metadata": {},
     "output_type": "execute_result"
    }
   ],
   "source": [
    "print(details['ProcedureType'].unique())\n",
    "details['ProcedureSubCode'].unique()"
   ]
  },
  {
   "cell_type": "markdown",
   "metadata": {},
   "source": [
    "- So, we have 100 pet ID's but have only details for 24 pets for their procedures.\n",
    "- We have 89 unique owners in both owners and pets dataframe, most probably there's not going to be any loss of information on joining these dataframes, unless of course these unique id's are different for some records. I would still choose to go with full outer join first and then see if there is any loss of information.\n",
    "- Then I would use inner join to keep only the common records between owners, pets and procedures if I want to analyze data about procedures on these pets\n",
    "- For procedure types also we have only 4 procedures in common for procedures and procedure details dataframe."
   ]
  },
  {
   "cell_type": "code",
   "execution_count": 89,
   "metadata": {},
   "outputs": [],
   "source": [
    "# Joining Owners and Pets dataframe\n",
    "df = pd.merge(owners, pets, on='OwnerID', how='outer')"
   ]
  },
  {
   "cell_type": "code",
   "execution_count": 90,
   "metadata": {},
   "outputs": [
    {
     "data": {
      "text/html": [
       "<div>\n",
       "<style scoped>\n",
       "    .dataframe tbody tr th:only-of-type {\n",
       "        vertical-align: middle;\n",
       "    }\n",
       "\n",
       "    .dataframe tbody tr th {\n",
       "        vertical-align: top;\n",
       "    }\n",
       "\n",
       "    .dataframe thead th {\n",
       "        text-align: right;\n",
       "    }\n",
       "</style>\n",
       "<table border=\"1\" class=\"dataframe\">\n",
       "  <thead>\n",
       "    <tr style=\"text-align: right;\">\n",
       "      <th></th>\n",
       "      <th>OwnerID</th>\n",
       "      <th>Name_x</th>\n",
       "      <th>Surname</th>\n",
       "      <th>StreetAddress</th>\n",
       "      <th>City</th>\n",
       "      <th>State</th>\n",
       "      <th>StateFull</th>\n",
       "      <th>ZipCode</th>\n",
       "      <th>PetID</th>\n",
       "      <th>Name_y</th>\n",
       "      <th>Kind</th>\n",
       "      <th>Gender</th>\n",
       "      <th>Age</th>\n",
       "    </tr>\n",
       "  </thead>\n",
       "  <tbody>\n",
       "    <tr>\n",
       "      <th>0</th>\n",
       "      <td>6049</td>\n",
       "      <td>Debbie</td>\n",
       "      <td>Metivier</td>\n",
       "      <td>315 Goff Avenue</td>\n",
       "      <td>Grand Rapids</td>\n",
       "      <td>MI</td>\n",
       "      <td>Michigan</td>\n",
       "      <td>49503</td>\n",
       "      <td>I6-9459</td>\n",
       "      <td>Biscuit</td>\n",
       "      <td>Dog</td>\n",
       "      <td>female</td>\n",
       "      <td>4</td>\n",
       "    </tr>\n",
       "    <tr>\n",
       "      <th>1</th>\n",
       "      <td>2863</td>\n",
       "      <td>John</td>\n",
       "      <td>Sebastian</td>\n",
       "      <td>3221 Perry Street</td>\n",
       "      <td>Davison</td>\n",
       "      <td>MI</td>\n",
       "      <td>Michigan</td>\n",
       "      <td>48423</td>\n",
       "      <td>R4-6131</td>\n",
       "      <td>Biscuit</td>\n",
       "      <td>Dog</td>\n",
       "      <td>female</td>\n",
       "      <td>5</td>\n",
       "    </tr>\n",
       "    <tr>\n",
       "      <th>2</th>\n",
       "      <td>3518</td>\n",
       "      <td>Connie</td>\n",
       "      <td>Pauley</td>\n",
       "      <td>1539 Cunningham Court</td>\n",
       "      <td>Bloomfield Township</td>\n",
       "      <td>MI</td>\n",
       "      <td>Michigan</td>\n",
       "      <td>48302</td>\n",
       "      <td>N6-7350</td>\n",
       "      <td>Biscuit</td>\n",
       "      <td>Dog</td>\n",
       "      <td>female</td>\n",
       "      <td>8</td>\n",
       "    </tr>\n",
       "    <tr>\n",
       "      <th>3</th>\n",
       "      <td>3663</td>\n",
       "      <td>Lena</td>\n",
       "      <td>Haliburton</td>\n",
       "      <td>4217 Twin Oaks Drive</td>\n",
       "      <td>Traverse City</td>\n",
       "      <td>MI</td>\n",
       "      <td>Michigan</td>\n",
       "      <td>49684</td>\n",
       "      <td>U4-6674</td>\n",
       "      <td>Biscuit</td>\n",
       "      <td>Dog</td>\n",
       "      <td>female</td>\n",
       "      <td>1</td>\n",
       "    </tr>\n",
       "    <tr>\n",
       "      <th>4</th>\n",
       "      <td>1070</td>\n",
       "      <td>Jessica</td>\n",
       "      <td>Velazquez</td>\n",
       "      <td>3861 Woodbridge Lane</td>\n",
       "      <td>Southfield</td>\n",
       "      <td>MI</td>\n",
       "      <td>Michigan</td>\n",
       "      <td>48034</td>\n",
       "      <td>U8-6473</td>\n",
       "      <td>Biscuit</td>\n",
       "      <td>Dog</td>\n",
       "      <td>female</td>\n",
       "      <td>3</td>\n",
       "    </tr>\n",
       "  </tbody>\n",
       "</table>\n",
       "</div>"
      ],
      "text/plain": [
       "   OwnerID   Name_x     Surname          StreetAddress                 City  \\\n",
       "0     6049   Debbie    Metivier        315 Goff Avenue         Grand Rapids   \n",
       "1     2863     John   Sebastian      3221 Perry Street              Davison   \n",
       "2     3518   Connie      Pauley  1539 Cunningham Court  Bloomfield Township   \n",
       "3     3663     Lena  Haliburton   4217 Twin Oaks Drive        Traverse City   \n",
       "4     1070  Jessica   Velazquez   3861 Woodbridge Lane           Southfield   \n",
       "\n",
       "  State StateFull  ZipCode    PetID   Name_y Kind  Gender  Age  \n",
       "0    MI  Michigan    49503  I6-9459  Biscuit  Dog  female    4  \n",
       "1    MI  Michigan    48423  R4-6131  Biscuit  Dog  female    5  \n",
       "2    MI  Michigan    48302  N6-7350  Biscuit  Dog  female    8  \n",
       "3    MI  Michigan    49684  U4-6674  Biscuit  Dog  female    1  \n",
       "4    MI  Michigan    48034  U8-6473  Biscuit  Dog  female    3  "
      ]
     },
     "execution_count": 90,
     "metadata": {},
     "output_type": "execute_result"
    }
   ],
   "source": [
    "df.head()"
   ]
  },
  {
   "cell_type": "code",
   "execution_count": 91,
   "metadata": {},
   "outputs": [
    {
     "name": "stdout",
     "output_type": "stream",
     "text": [
      "<class 'pandas.core.frame.DataFrame'>\n",
      "Int64Index: 100 entries, 0 to 99\n",
      "Data columns (total 13 columns):\n",
      "OwnerID          100 non-null int64\n",
      "Name_x           100 non-null object\n",
      "Surname          100 non-null object\n",
      "StreetAddress    100 non-null object\n",
      "City             100 non-null object\n",
      "State            100 non-null object\n",
      "StateFull        100 non-null object\n",
      "ZipCode          100 non-null int64\n",
      "PetID            100 non-null object\n",
      "Name_y           100 non-null object\n",
      "Kind             100 non-null object\n",
      "Gender           100 non-null object\n",
      "Age              100 non-null int64\n",
      "dtypes: int64(3), object(10)\n",
      "memory usage: 10.9+ KB\n"
     ]
    }
   ],
   "source": [
    "df.info()"
   ]
  },
  {
   "cell_type": "code",
   "execution_count": 92,
   "metadata": {},
   "outputs": [
    {
     "data": {
      "text/plain": [
       "(100, 13)"
      ]
     },
     "execution_count": 92,
     "metadata": {},
     "output_type": "execute_result"
    }
   ],
   "source": [
    "df.shape"
   ]
  },
  {
   "cell_type": "code",
   "execution_count": 93,
   "metadata": {},
   "outputs": [],
   "source": [
    "# No loss of infromation is there till now\n",
    "# Now merging it with procedures\n",
    "df1=pd.merge(df, procedures, on='PetID', how='inner')"
   ]
  },
  {
   "cell_type": "code",
   "execution_count": 94,
   "metadata": {},
   "outputs": [
    {
     "data": {
      "text/plain": [
       "(41, 16)"
      ]
     },
     "execution_count": 94,
     "metadata": {},
     "output_type": "execute_result"
    }
   ],
   "source": [
    "df1.shape"
   ]
  },
  {
   "cell_type": "code",
   "execution_count": 95,
   "metadata": {},
   "outputs": [
    {
     "name": "stdout",
     "output_type": "stream",
     "text": [
      "<class 'pandas.core.frame.DataFrame'>\n",
      "Int64Index: 41 entries, 0 to 40\n",
      "Data columns (total 16 columns):\n",
      "OwnerID             41 non-null int64\n",
      "Name_x              41 non-null object\n",
      "Surname             41 non-null object\n",
      "StreetAddress       41 non-null object\n",
      "City                41 non-null object\n",
      "State               41 non-null object\n",
      "StateFull           41 non-null object\n",
      "ZipCode             41 non-null int64\n",
      "PetID               41 non-null object\n",
      "Name_y              41 non-null object\n",
      "Kind                41 non-null object\n",
      "Gender              41 non-null object\n",
      "Age                 41 non-null int64\n",
      "Date                41 non-null object\n",
      "ProcedureType       41 non-null object\n",
      "ProcedureSubCode    41 non-null int64\n",
      "dtypes: int64(4), object(12)\n",
      "memory usage: 5.4+ KB\n"
     ]
    }
   ],
   "source": [
    "df1.info()"
   ]
  },
  {
   "cell_type": "code",
   "execution_count": 96,
   "metadata": {},
   "outputs": [
    {
     "data": {
      "text/html": [
       "<div>\n",
       "<style scoped>\n",
       "    .dataframe tbody tr th:only-of-type {\n",
       "        vertical-align: middle;\n",
       "    }\n",
       "\n",
       "    .dataframe tbody tr th {\n",
       "        vertical-align: top;\n",
       "    }\n",
       "\n",
       "    .dataframe thead th {\n",
       "        text-align: right;\n",
       "    }\n",
       "</style>\n",
       "<table border=\"1\" class=\"dataframe\">\n",
       "  <thead>\n",
       "    <tr style=\"text-align: right;\">\n",
       "      <th></th>\n",
       "      <th>OwnerID</th>\n",
       "      <th>Name_x</th>\n",
       "      <th>Surname</th>\n",
       "      <th>StreetAddress</th>\n",
       "      <th>City</th>\n",
       "      <th>State</th>\n",
       "      <th>StateFull</th>\n",
       "      <th>ZipCode</th>\n",
       "      <th>PetID</th>\n",
       "      <th>Name_y</th>\n",
       "      <th>Kind</th>\n",
       "      <th>Gender</th>\n",
       "      <th>Age</th>\n",
       "      <th>Date</th>\n",
       "      <th>ProcedureType</th>\n",
       "      <th>ProcedureSubCode</th>\n",
       "    </tr>\n",
       "  </thead>\n",
       "  <tbody>\n",
       "    <tr>\n",
       "      <th>0</th>\n",
       "      <td>1070</td>\n",
       "      <td>Jessica</td>\n",
       "      <td>Velazquez</td>\n",
       "      <td>3861 Woodbridge Lane</td>\n",
       "      <td>Southfield</td>\n",
       "      <td>MI</td>\n",
       "      <td>Michigan</td>\n",
       "      <td>48034</td>\n",
       "      <td>U8-6473</td>\n",
       "      <td>Biscuit</td>\n",
       "      <td>Dog</td>\n",
       "      <td>female</td>\n",
       "      <td>3</td>\n",
       "      <td>7/10/2016</td>\n",
       "      <td>VACCINATIONS</td>\n",
       "      <td>5</td>\n",
       "    </tr>\n",
       "    <tr>\n",
       "      <th>1</th>\n",
       "      <td>1070</td>\n",
       "      <td>Jessica</td>\n",
       "      <td>Velazquez</td>\n",
       "      <td>3861 Woodbridge Lane</td>\n",
       "      <td>Southfield</td>\n",
       "      <td>MI</td>\n",
       "      <td>Michigan</td>\n",
       "      <td>48034</td>\n",
       "      <td>U8-6473</td>\n",
       "      <td>Biscuit</td>\n",
       "      <td>Dog</td>\n",
       "      <td>female</td>\n",
       "      <td>3</td>\n",
       "      <td>8/19/2016</td>\n",
       "      <td>GROOMING</td>\n",
       "      <td>1</td>\n",
       "    </tr>\n",
       "    <tr>\n",
       "      <th>2</th>\n",
       "      <td>2419</td>\n",
       "      <td>Luisa</td>\n",
       "      <td>Cuellar</td>\n",
       "      <td>1308 Shingleton Road</td>\n",
       "      <td>Kalamazoo</td>\n",
       "      <td>MI</td>\n",
       "      <td>Michigan</td>\n",
       "      <td>49007</td>\n",
       "      <td>P0-1725</td>\n",
       "      <td>Lily</td>\n",
       "      <td>Dog</td>\n",
       "      <td>female</td>\n",
       "      <td>0</td>\n",
       "      <td>7/6/2016</td>\n",
       "      <td>GROOMING</td>\n",
       "      <td>3</td>\n",
       "    </tr>\n",
       "    <tr>\n",
       "      <th>3</th>\n",
       "      <td>6194</td>\n",
       "      <td>Karen</td>\n",
       "      <td>Torres</td>\n",
       "      <td>3941 Ritter Avenue</td>\n",
       "      <td>Center Line</td>\n",
       "      <td>MI</td>\n",
       "      <td>Michigan</td>\n",
       "      <td>48015</td>\n",
       "      <td>O6-3123</td>\n",
       "      <td>Biscuit</td>\n",
       "      <td>Dog</td>\n",
       "      <td>female</td>\n",
       "      <td>2</td>\n",
       "      <td>9/11/2016</td>\n",
       "      <td>VACCINATIONS</td>\n",
       "      <td>5</td>\n",
       "    </tr>\n",
       "    <tr>\n",
       "      <th>4</th>\n",
       "      <td>5833</td>\n",
       "      <td>Mary</td>\n",
       "      <td>Hurtado</td>\n",
       "      <td>4865 Juniper Drive</td>\n",
       "      <td>Saint Charles</td>\n",
       "      <td>MI</td>\n",
       "      <td>Michigan</td>\n",
       "      <td>48655</td>\n",
       "      <td>T0-5705</td>\n",
       "      <td>Biscuit</td>\n",
       "      <td>Dog</td>\n",
       "      <td>female</td>\n",
       "      <td>5</td>\n",
       "      <td>11/4/2016</td>\n",
       "      <td>VACCINATIONS</td>\n",
       "      <td>5</td>\n",
       "    </tr>\n",
       "  </tbody>\n",
       "</table>\n",
       "</div>"
      ],
      "text/plain": [
       "   OwnerID   Name_x    Surname         StreetAddress           City State  \\\n",
       "0     1070  Jessica  Velazquez  3861 Woodbridge Lane     Southfield    MI   \n",
       "1     1070  Jessica  Velazquez  3861 Woodbridge Lane     Southfield    MI   \n",
       "2     2419    Luisa    Cuellar  1308 Shingleton Road      Kalamazoo    MI   \n",
       "3     6194    Karen     Torres    3941 Ritter Avenue    Center Line    MI   \n",
       "4     5833     Mary    Hurtado    4865 Juniper Drive  Saint Charles    MI   \n",
       "\n",
       "  StateFull  ZipCode    PetID   Name_y Kind  Gender  Age       Date  \\\n",
       "0  Michigan    48034  U8-6473  Biscuit  Dog  female    3  7/10/2016   \n",
       "1  Michigan    48034  U8-6473  Biscuit  Dog  female    3  8/19/2016   \n",
       "2  Michigan    49007  P0-1725     Lily  Dog  female    0   7/6/2016   \n",
       "3  Michigan    48015  O6-3123  Biscuit  Dog  female    2  9/11/2016   \n",
       "4  Michigan    48655  T0-5705  Biscuit  Dog  female    5  11/4/2016   \n",
       "\n",
       "  ProcedureType  ProcedureSubCode  \n",
       "0  VACCINATIONS                 5  \n",
       "1      GROOMING                 1  \n",
       "2      GROOMING                 3  \n",
       "3  VACCINATIONS                 5  \n",
       "4  VACCINATIONS                 5  "
      ]
     },
     "execution_count": 96,
     "metadata": {},
     "output_type": "execute_result"
    }
   ],
   "source": [
    "df1.head()"
   ]
  },
  {
   "cell_type": "markdown",
   "metadata": {},
   "source": [
    "## Q-1\n",
    "- Which pet (enter pet's name) had the most procedures? "
   ]
  },
  {
   "cell_type": "code",
   "execution_count": 97,
   "metadata": {},
   "outputs": [
    {
     "data": {
      "text/plain": [
       "PetID\n",
       "J8-7429    3\n",
       "Name: Kind, dtype: int64"
      ]
     },
     "execution_count": 97,
     "metadata": {},
     "output_type": "execute_result"
    }
   ],
   "source": [
    "df1.groupby('PetID').count()['Kind'].sort_values(ascending=False).head(1)"
   ]
  },
  {
   "cell_type": "code",
   "execution_count": 98,
   "metadata": {},
   "outputs": [
    {
     "data": {
      "text/plain": [
       "57    Bonaparte\n",
       "Name: Name, dtype: object"
      ]
     },
     "execution_count": 98,
     "metadata": {},
     "output_type": "execute_result"
    }
   ],
   "source": [
    "pets[pets['PetID']==\"J8-7429\"]['Name']"
   ]
  },
  {
   "cell_type": "markdown",
   "metadata": {},
   "source": [
    "# Answer-1 \n",
    "- Bonaparte had most procedures"
   ]
  },
  {
   "cell_type": "code",
   "execution_count": 99,
   "metadata": {},
   "outputs": [],
   "source": [
    "# merging df1 with procedure details\n",
    "# Using Inner join beacuse we have price information for particular kind of procedures only\n",
    "# Also merging on basis of two columns beacuse each procedure has different procedure subcodes, I do not want any null\n",
    "# -- values in the merged dataframe. So instead of clearing them later I'm joining the tables this way at first place.\n",
    "\n",
    "df2 = pd.merge(df1, details, on=[\"ProcedureType\",\"ProcedureSubCode\"],how='inner')"
   ]
  },
  {
   "cell_type": "code",
   "execution_count": 100,
   "metadata": {},
   "outputs": [
    {
     "data": {
      "text/plain": [
       "(41, 18)"
      ]
     },
     "execution_count": 100,
     "metadata": {},
     "output_type": "execute_result"
    }
   ],
   "source": [
    "df2.shape"
   ]
  },
  {
   "cell_type": "code",
   "execution_count": 101,
   "metadata": {},
   "outputs": [
    {
     "data": {
      "text/html": [
       "<div>\n",
       "<style scoped>\n",
       "    .dataframe tbody tr th:only-of-type {\n",
       "        vertical-align: middle;\n",
       "    }\n",
       "\n",
       "    .dataframe tbody tr th {\n",
       "        vertical-align: top;\n",
       "    }\n",
       "\n",
       "    .dataframe thead th {\n",
       "        text-align: right;\n",
       "    }\n",
       "</style>\n",
       "<table border=\"1\" class=\"dataframe\">\n",
       "  <thead>\n",
       "    <tr style=\"text-align: right;\">\n",
       "      <th></th>\n",
       "      <th>OwnerID</th>\n",
       "      <th>Name_x</th>\n",
       "      <th>Surname</th>\n",
       "      <th>StreetAddress</th>\n",
       "      <th>City</th>\n",
       "      <th>State</th>\n",
       "      <th>StateFull</th>\n",
       "      <th>ZipCode</th>\n",
       "      <th>PetID</th>\n",
       "      <th>Name_y</th>\n",
       "      <th>Kind</th>\n",
       "      <th>Gender</th>\n",
       "      <th>Age</th>\n",
       "      <th>Date</th>\n",
       "      <th>ProcedureType</th>\n",
       "      <th>ProcedureSubCode</th>\n",
       "      <th>Description</th>\n",
       "      <th>Price</th>\n",
       "    </tr>\n",
       "  </thead>\n",
       "  <tbody>\n",
       "    <tr>\n",
       "      <th>0</th>\n",
       "      <td>1070</td>\n",
       "      <td>Jessica</td>\n",
       "      <td>Velazquez</td>\n",
       "      <td>3861 Woodbridge Lane</td>\n",
       "      <td>Southfield</td>\n",
       "      <td>MI</td>\n",
       "      <td>Michigan</td>\n",
       "      <td>48034</td>\n",
       "      <td>U8-6473</td>\n",
       "      <td>Biscuit</td>\n",
       "      <td>Dog</td>\n",
       "      <td>female</td>\n",
       "      <td>3</td>\n",
       "      <td>7/10/2016</td>\n",
       "      <td>VACCINATIONS</td>\n",
       "      <td>5</td>\n",
       "      <td>Rabies</td>\n",
       "      <td>10</td>\n",
       "    </tr>\n",
       "    <tr>\n",
       "      <th>1</th>\n",
       "      <td>6194</td>\n",
       "      <td>Karen</td>\n",
       "      <td>Torres</td>\n",
       "      <td>3941 Ritter Avenue</td>\n",
       "      <td>Center Line</td>\n",
       "      <td>MI</td>\n",
       "      <td>Michigan</td>\n",
       "      <td>48015</td>\n",
       "      <td>O6-3123</td>\n",
       "      <td>Biscuit</td>\n",
       "      <td>Dog</td>\n",
       "      <td>female</td>\n",
       "      <td>2</td>\n",
       "      <td>9/11/2016</td>\n",
       "      <td>VACCINATIONS</td>\n",
       "      <td>5</td>\n",
       "      <td>Rabies</td>\n",
       "      <td>10</td>\n",
       "    </tr>\n",
       "    <tr>\n",
       "      <th>2</th>\n",
       "      <td>5833</td>\n",
       "      <td>Mary</td>\n",
       "      <td>Hurtado</td>\n",
       "      <td>4865 Juniper Drive</td>\n",
       "      <td>Saint Charles</td>\n",
       "      <td>MI</td>\n",
       "      <td>Michigan</td>\n",
       "      <td>48655</td>\n",
       "      <td>T0-5705</td>\n",
       "      <td>Biscuit</td>\n",
       "      <td>Dog</td>\n",
       "      <td>female</td>\n",
       "      <td>5</td>\n",
       "      <td>11/4/2016</td>\n",
       "      <td>VACCINATIONS</td>\n",
       "      <td>5</td>\n",
       "      <td>Rabies</td>\n",
       "      <td>10</td>\n",
       "    </tr>\n",
       "    <tr>\n",
       "      <th>3</th>\n",
       "      <td>7581</td>\n",
       "      <td>Florence</td>\n",
       "      <td>Nolen</td>\n",
       "      <td>3103 Howard Street</td>\n",
       "      <td>Grand Rapids</td>\n",
       "      <td>MI</td>\n",
       "      <td>Michigan</td>\n",
       "      <td>49503</td>\n",
       "      <td>X0-8765</td>\n",
       "      <td>Vuitton</td>\n",
       "      <td>Parrot</td>\n",
       "      <td>female</td>\n",
       "      <td>11</td>\n",
       "      <td>3/18/2016</td>\n",
       "      <td>VACCINATIONS</td>\n",
       "      <td>5</td>\n",
       "      <td>Rabies</td>\n",
       "      <td>10</td>\n",
       "    </tr>\n",
       "    <tr>\n",
       "      <th>4</th>\n",
       "      <td>9900</td>\n",
       "      <td>Marie</td>\n",
       "      <td>Floyd</td>\n",
       "      <td>314 Cunningham Court</td>\n",
       "      <td>Southfield</td>\n",
       "      <td>MI</td>\n",
       "      <td>Michigan</td>\n",
       "      <td>48075</td>\n",
       "      <td>I2-7926</td>\n",
       "      <td>Dior</td>\n",
       "      <td>Parrot</td>\n",
       "      <td>female</td>\n",
       "      <td>4</td>\n",
       "      <td>5/28/2016</td>\n",
       "      <td>VACCINATIONS</td>\n",
       "      <td>5</td>\n",
       "      <td>Rabies</td>\n",
       "      <td>10</td>\n",
       "    </tr>\n",
       "  </tbody>\n",
       "</table>\n",
       "</div>"
      ],
      "text/plain": [
       "   OwnerID    Name_x    Surname         StreetAddress           City State  \\\n",
       "0     1070   Jessica  Velazquez  3861 Woodbridge Lane     Southfield    MI   \n",
       "1     6194     Karen     Torres    3941 Ritter Avenue    Center Line    MI   \n",
       "2     5833      Mary    Hurtado    4865 Juniper Drive  Saint Charles    MI   \n",
       "3     7581  Florence      Nolen    3103 Howard Street   Grand Rapids    MI   \n",
       "4     9900     Marie      Floyd  314 Cunningham Court     Southfield    MI   \n",
       "\n",
       "  StateFull  ZipCode    PetID   Name_y    Kind  Gender  Age       Date  \\\n",
       "0  Michigan    48034  U8-6473  Biscuit     Dog  female    3  7/10/2016   \n",
       "1  Michigan    48015  O6-3123  Biscuit     Dog  female    2  9/11/2016   \n",
       "2  Michigan    48655  T0-5705  Biscuit     Dog  female    5  11/4/2016   \n",
       "3  Michigan    49503  X0-8765  Vuitton  Parrot  female   11  3/18/2016   \n",
       "4  Michigan    48075  I2-7926     Dior  Parrot  female    4  5/28/2016   \n",
       "\n",
       "  ProcedureType  ProcedureSubCode Description  Price  \n",
       "0  VACCINATIONS                 5      Rabies     10  \n",
       "1  VACCINATIONS                 5      Rabies     10  \n",
       "2  VACCINATIONS                 5      Rabies     10  \n",
       "3  VACCINATIONS                 5      Rabies     10  \n",
       "4  VACCINATIONS                 5      Rabies     10  "
      ]
     },
     "execution_count": 101,
     "metadata": {},
     "output_type": "execute_result"
    }
   ],
   "source": [
    "df2.head()"
   ]
  },
  {
   "cell_type": "markdown",
   "metadata": {},
   "source": [
    "## Q-2: Which owner (enter OwnerID) spent the most on a procedure or procedures for his/her pet(s)? "
   ]
  },
  {
   "cell_type": "code",
   "execution_count": 102,
   "metadata": {},
   "outputs": [
    {
     "data": {
      "text/plain": [
       "OwnerID\n",
       "8316    450\n",
       "Name: Price, dtype: int64"
      ]
     },
     "execution_count": 102,
     "metadata": {},
     "output_type": "execute_result"
    }
   ],
   "source": [
    "df2.groupby('OwnerID').sum()['Price'].sort_values(ascending=False).head(1)"
   ]
  },
  {
   "cell_type": "markdown",
   "metadata": {},
   "source": [
    "## Answer-2 OwnerID 8316 has spent most amount of money on procedures of pets as per the data available"
   ]
  },
  {
   "cell_type": "code",
   "execution_count": 103,
   "metadata": {},
   "outputs": [
    {
     "data": {
      "text/html": [
       "<div>\n",
       "<style scoped>\n",
       "    .dataframe tbody tr th:only-of-type {\n",
       "        vertical-align: middle;\n",
       "    }\n",
       "\n",
       "    .dataframe tbody tr th {\n",
       "        vertical-align: top;\n",
       "    }\n",
       "\n",
       "    .dataframe thead th {\n",
       "        text-align: right;\n",
       "    }\n",
       "</style>\n",
       "<table border=\"1\" class=\"dataframe\">\n",
       "  <thead>\n",
       "    <tr style=\"text-align: right;\">\n",
       "      <th></th>\n",
       "      <th>OwnerID</th>\n",
       "      <th>Name_x</th>\n",
       "      <th>Surname</th>\n",
       "      <th>StreetAddress</th>\n",
       "      <th>City</th>\n",
       "      <th>State</th>\n",
       "      <th>StateFull</th>\n",
       "      <th>ZipCode</th>\n",
       "      <th>PetID</th>\n",
       "      <th>Name_y</th>\n",
       "      <th>Kind</th>\n",
       "      <th>Gender</th>\n",
       "      <th>Age</th>\n",
       "      <th>Date</th>\n",
       "      <th>ProcedureType</th>\n",
       "      <th>ProcedureSubCode</th>\n",
       "      <th>Description</th>\n",
       "      <th>Price</th>\n",
       "    </tr>\n",
       "  </thead>\n",
       "  <tbody>\n",
       "    <tr>\n",
       "      <th>0</th>\n",
       "      <td>1070</td>\n",
       "      <td>Jessica</td>\n",
       "      <td>Velazquez</td>\n",
       "      <td>3861 Woodbridge Lane</td>\n",
       "      <td>Southfield</td>\n",
       "      <td>MI</td>\n",
       "      <td>Michigan</td>\n",
       "      <td>48034</td>\n",
       "      <td>U8-6473</td>\n",
       "      <td>Biscuit</td>\n",
       "      <td>Dog</td>\n",
       "      <td>female</td>\n",
       "      <td>3</td>\n",
       "      <td>7/10/2016</td>\n",
       "      <td>VACCINATIONS</td>\n",
       "      <td>5</td>\n",
       "      <td>Rabies</td>\n",
       "      <td>10</td>\n",
       "    </tr>\n",
       "    <tr>\n",
       "      <th>1</th>\n",
       "      <td>6194</td>\n",
       "      <td>Karen</td>\n",
       "      <td>Torres</td>\n",
       "      <td>3941 Ritter Avenue</td>\n",
       "      <td>Center Line</td>\n",
       "      <td>MI</td>\n",
       "      <td>Michigan</td>\n",
       "      <td>48015</td>\n",
       "      <td>O6-3123</td>\n",
       "      <td>Biscuit</td>\n",
       "      <td>Dog</td>\n",
       "      <td>female</td>\n",
       "      <td>2</td>\n",
       "      <td>9/11/2016</td>\n",
       "      <td>VACCINATIONS</td>\n",
       "      <td>5</td>\n",
       "      <td>Rabies</td>\n",
       "      <td>10</td>\n",
       "    </tr>\n",
       "    <tr>\n",
       "      <th>2</th>\n",
       "      <td>5833</td>\n",
       "      <td>Mary</td>\n",
       "      <td>Hurtado</td>\n",
       "      <td>4865 Juniper Drive</td>\n",
       "      <td>Saint Charles</td>\n",
       "      <td>MI</td>\n",
       "      <td>Michigan</td>\n",
       "      <td>48655</td>\n",
       "      <td>T0-5705</td>\n",
       "      <td>Biscuit</td>\n",
       "      <td>Dog</td>\n",
       "      <td>female</td>\n",
       "      <td>5</td>\n",
       "      <td>11/4/2016</td>\n",
       "      <td>VACCINATIONS</td>\n",
       "      <td>5</td>\n",
       "      <td>Rabies</td>\n",
       "      <td>10</td>\n",
       "    </tr>\n",
       "    <tr>\n",
       "      <th>3</th>\n",
       "      <td>7581</td>\n",
       "      <td>Florence</td>\n",
       "      <td>Nolen</td>\n",
       "      <td>3103 Howard Street</td>\n",
       "      <td>Grand Rapids</td>\n",
       "      <td>MI</td>\n",
       "      <td>Michigan</td>\n",
       "      <td>49503</td>\n",
       "      <td>X0-8765</td>\n",
       "      <td>Vuitton</td>\n",
       "      <td>Parrot</td>\n",
       "      <td>female</td>\n",
       "      <td>11</td>\n",
       "      <td>3/18/2016</td>\n",
       "      <td>VACCINATIONS</td>\n",
       "      <td>5</td>\n",
       "      <td>Rabies</td>\n",
       "      <td>10</td>\n",
       "    </tr>\n",
       "    <tr>\n",
       "      <th>4</th>\n",
       "      <td>9900</td>\n",
       "      <td>Marie</td>\n",
       "      <td>Floyd</td>\n",
       "      <td>314 Cunningham Court</td>\n",
       "      <td>Southfield</td>\n",
       "      <td>MI</td>\n",
       "      <td>Michigan</td>\n",
       "      <td>48075</td>\n",
       "      <td>I2-7926</td>\n",
       "      <td>Dior</td>\n",
       "      <td>Parrot</td>\n",
       "      <td>female</td>\n",
       "      <td>4</td>\n",
       "      <td>5/28/2016</td>\n",
       "      <td>VACCINATIONS</td>\n",
       "      <td>5</td>\n",
       "      <td>Rabies</td>\n",
       "      <td>10</td>\n",
       "    </tr>\n",
       "  </tbody>\n",
       "</table>\n",
       "</div>"
      ],
      "text/plain": [
       "   OwnerID    Name_x    Surname         StreetAddress           City State  \\\n",
       "0     1070   Jessica  Velazquez  3861 Woodbridge Lane     Southfield    MI   \n",
       "1     6194     Karen     Torres    3941 Ritter Avenue    Center Line    MI   \n",
       "2     5833      Mary    Hurtado    4865 Juniper Drive  Saint Charles    MI   \n",
       "3     7581  Florence      Nolen    3103 Howard Street   Grand Rapids    MI   \n",
       "4     9900     Marie      Floyd  314 Cunningham Court     Southfield    MI   \n",
       "\n",
       "  StateFull  ZipCode    PetID   Name_y    Kind  Gender  Age       Date  \\\n",
       "0  Michigan    48034  U8-6473  Biscuit     Dog  female    3  7/10/2016   \n",
       "1  Michigan    48015  O6-3123  Biscuit     Dog  female    2  9/11/2016   \n",
       "2  Michigan    48655  T0-5705  Biscuit     Dog  female    5  11/4/2016   \n",
       "3  Michigan    49503  X0-8765  Vuitton  Parrot  female   11  3/18/2016   \n",
       "4  Michigan    48075  I2-7926     Dior  Parrot  female    4  5/28/2016   \n",
       "\n",
       "  ProcedureType  ProcedureSubCode Description  Price  \n",
       "0  VACCINATIONS                 5      Rabies     10  \n",
       "1  VACCINATIONS                 5      Rabies     10  \n",
       "2  VACCINATIONS                 5      Rabies     10  \n",
       "3  VACCINATIONS                 5      Rabies     10  \n",
       "4  VACCINATIONS                 5      Rabies     10  "
      ]
     },
     "execution_count": 103,
     "metadata": {},
     "output_type": "execute_result"
    }
   ],
   "source": [
    "df2.head()"
   ]
  },
  {
   "cell_type": "code",
   "execution_count": 104,
   "metadata": {},
   "outputs": [],
   "source": [
    "# Filtering records for zipcode 49503\n",
    "df3=df2[df2['ZipCode']==49503]"
   ]
  },
  {
   "cell_type": "code",
   "execution_count": 105,
   "metadata": {},
   "outputs": [
    {
     "data": {
      "text/plain": [
       "(8, 18)"
      ]
     },
     "execution_count": 105,
     "metadata": {},
     "output_type": "execute_result"
    }
   ],
   "source": [
    "df3.shape"
   ]
  },
  {
   "cell_type": "code",
   "execution_count": 106,
   "metadata": {},
   "outputs": [
    {
     "data": {
      "text/plain": [
       "1240"
      ]
     },
     "execution_count": 106,
     "metadata": {},
     "output_type": "execute_result"
    }
   ],
   "source": [
    "# Total number of records for this zipcode=8\n",
    "df3.Price.sum()"
   ]
  },
  {
   "cell_type": "code",
   "execution_count": 107,
   "metadata": {},
   "outputs": [
    {
     "name": "stdout",
     "output_type": "stream",
     "text": [
      "Mean price per procedure for pets with owners who have a 49503 zip code: 155.0\n"
     ]
    }
   ],
   "source": [
    "print('Mean price per procedure for pets with owners who have a 49503 zip code: {}'.format(1240/8))"
   ]
  },
  {
   "cell_type": "markdown",
   "metadata": {},
   "source": [
    "## Q-3 What is the mean price per procedure for pets with owners who have a 49503 zip code?\n",
    "## Anwer-3: 155"
   ]
  },
  {
   "cell_type": "code",
   "execution_count": 108,
   "metadata": {},
   "outputs": [
    {
     "data": {
      "text/html": [
       "<div>\n",
       "<style scoped>\n",
       "    .dataframe tbody tr th:only-of-type {\n",
       "        vertical-align: middle;\n",
       "    }\n",
       "\n",
       "    .dataframe tbody tr th {\n",
       "        vertical-align: top;\n",
       "    }\n",
       "\n",
       "    .dataframe thead th {\n",
       "        text-align: right;\n",
       "    }\n",
       "</style>\n",
       "<table border=\"1\" class=\"dataframe\">\n",
       "  <thead>\n",
       "    <tr style=\"text-align: right;\">\n",
       "      <th></th>\n",
       "      <th>PetID</th>\n",
       "      <th>Name</th>\n",
       "      <th>Kind</th>\n",
       "      <th>Gender</th>\n",
       "      <th>Age</th>\n",
       "      <th>OwnerID</th>\n",
       "    </tr>\n",
       "  </thead>\n",
       "  <tbody>\n",
       "    <tr>\n",
       "      <th>0</th>\n",
       "      <td>J6-8562</td>\n",
       "      <td>Blackie</td>\n",
       "      <td>Dog</td>\n",
       "      <td>male</td>\n",
       "      <td>11</td>\n",
       "      <td>5168</td>\n",
       "    </tr>\n",
       "    <tr>\n",
       "      <th>1</th>\n",
       "      <td>Q0-2001</td>\n",
       "      <td>Roomba</td>\n",
       "      <td>Cat</td>\n",
       "      <td>male</td>\n",
       "      <td>9</td>\n",
       "      <td>5508</td>\n",
       "    </tr>\n",
       "    <tr>\n",
       "      <th>2</th>\n",
       "      <td>M0-2904</td>\n",
       "      <td>Simba</td>\n",
       "      <td>Cat</td>\n",
       "      <td>male</td>\n",
       "      <td>1</td>\n",
       "      <td>3086</td>\n",
       "    </tr>\n",
       "    <tr>\n",
       "      <th>3</th>\n",
       "      <td>R3-7551</td>\n",
       "      <td>Keller</td>\n",
       "      <td>Parrot</td>\n",
       "      <td>female</td>\n",
       "      <td>2</td>\n",
       "      <td>7908</td>\n",
       "    </tr>\n",
       "    <tr>\n",
       "      <th>4</th>\n",
       "      <td>P2-7342</td>\n",
       "      <td>Cuddles</td>\n",
       "      <td>Dog</td>\n",
       "      <td>male</td>\n",
       "      <td>13</td>\n",
       "      <td>4378</td>\n",
       "    </tr>\n",
       "  </tbody>\n",
       "</table>\n",
       "</div>"
      ],
      "text/plain": [
       "     PetID     Name    Kind  Gender  Age  OwnerID\n",
       "0  J6-8562  Blackie     Dog    male   11     5168\n",
       "1  Q0-2001   Roomba     Cat    male    9     5508\n",
       "2  M0-2904    Simba     Cat    male    1     3086\n",
       "3  R3-7551   Keller  Parrot  female    2     7908\n",
       "4  P2-7342  Cuddles     Dog    male   13     4378"
      ]
     },
     "execution_count": 108,
     "metadata": {},
     "output_type": "execute_result"
    }
   ],
   "source": [
    "pets.head()"
   ]
  },
  {
   "cell_type": "code",
   "execution_count": 109,
   "metadata": {},
   "outputs": [],
   "source": [
    "# converting Name column to lowercase\n",
    "pets['Name']=pets['Name'].str.lower()\n",
    "\n",
    "# Filtering out just the dogs\n",
    "pets1=pets[pets.Kind==\"Dog\"]\n",
    "\n",
    "# Filtering out the pets which have 'c' in their names\n",
    "pets2=pets1[pets1.Name.str.contains('c')]"
   ]
  },
  {
   "cell_type": "code",
   "execution_count": 110,
   "metadata": {},
   "outputs": [
    {
     "name": "stdout",
     "output_type": "stream",
     "text": [
      "Total number of dogs that have a \"c\" in their name: 30\n"
     ]
    }
   ],
   "source": [
    "print('Total number of dogs that have a \"c\" in their name: {}'.format(pets1[pets1.Name.str.contains('c')].shape[0]))"
   ]
  },
  {
   "cell_type": "code",
   "execution_count": 111,
   "metadata": {},
   "outputs": [
    {
     "name": "stdout",
     "output_type": "stream",
     "text": [
      "Total number of dogs that have a \"c\" in their name and are males: 17\n"
     ]
    }
   ],
   "source": [
    "print('Total number of dogs that have a \"c\" in their name and are males: {}'.format(pets2[pets2.Gender=='male'].shape[0]))"
   ]
  },
  {
   "cell_type": "markdown",
   "metadata": {},
   "source": [
    "## Q-4: What percentage of dogs in pets.csv that have a \"c\" in their name are male? Keep answer in decimal format and round to the nearest hundredth\n"
   ]
  },
  {
   "cell_type": "code",
   "execution_count": 112,
   "metadata": {},
   "outputs": [
    {
     "data": {
      "text/plain": [
       "0.5666666666666667"
      ]
     },
     "execution_count": 112,
     "metadata": {},
     "output_type": "execute_result"
    }
   ],
   "source": [
    "17/30"
   ]
  },
  {
   "cell_type": "markdown",
   "metadata": {},
   "source": [
    "## Answer-4: 0.57"
   ]
  },
  {
   "cell_type": "code",
   "execution_count": 113,
   "metadata": {},
   "outputs": [],
   "source": [
    "dogs=pets[pets.Kind==\"Dog\"]"
   ]
  },
  {
   "cell_type": "code",
   "execution_count": 114,
   "metadata": {},
   "outputs": [
    {
     "data": {
      "text/plain": [
       "4.287593572928356"
      ]
     },
     "execution_count": 114,
     "metadata": {},
     "output_type": "execute_result"
    }
   ],
   "source": [
    "dogs.describe()['Age']['std']"
   ]
  },
  {
   "cell_type": "markdown",
   "metadata": {},
   "source": [
    "### Q-5: What is the standard deviation of age for dogs? Keep answer in decimal format and round to the nearest hundredth (e.g. 0.75)\n",
    "### Answer-5 :  4.29 years"
   ]
  },
  {
   "cell_type": "code",
   "execution_count": 115,
   "metadata": {},
   "outputs": [
    {
     "data": {
      "text/html": [
       "<div>\n",
       "<style scoped>\n",
       "    .dataframe tbody tr th:only-of-type {\n",
       "        vertical-align: middle;\n",
       "    }\n",
       "\n",
       "    .dataframe tbody tr th {\n",
       "        vertical-align: top;\n",
       "    }\n",
       "\n",
       "    .dataframe thead th {\n",
       "        text-align: right;\n",
       "    }\n",
       "</style>\n",
       "<table border=\"1\" class=\"dataframe\">\n",
       "  <thead>\n",
       "    <tr style=\"text-align: right;\">\n",
       "      <th></th>\n",
       "      <th>PetID</th>\n",
       "      <th>Name</th>\n",
       "      <th>Kind</th>\n",
       "      <th>Gender</th>\n",
       "      <th>Age</th>\n",
       "      <th>OwnerID</th>\n",
       "    </tr>\n",
       "  </thead>\n",
       "  <tbody>\n",
       "    <tr>\n",
       "      <th>5</th>\n",
       "      <td>X0-8765</td>\n",
       "      <td>vuitton</td>\n",
       "      <td>Parrot</td>\n",
       "      <td>female</td>\n",
       "      <td>11</td>\n",
       "      <td>7581</td>\n",
       "    </tr>\n",
       "    <tr>\n",
       "      <th>16</th>\n",
       "      <td>H8-8856</td>\n",
       "      <td>bandit</td>\n",
       "      <td>Parrot</td>\n",
       "      <td>male</td>\n",
       "      <td>11</td>\n",
       "      <td>6102</td>\n",
       "    </tr>\n",
       "  </tbody>\n",
       "</table>\n",
       "</div>"
      ],
      "text/plain": [
       "      PetID     Name    Kind  Gender  Age  OwnerID\n",
       "5   X0-8765  vuitton  Parrot  female   11     7581\n",
       "16  H8-8856   bandit  Parrot    male   11     6102"
      ]
     },
     "execution_count": 115,
     "metadata": {},
     "output_type": "execute_result"
    }
   ],
   "source": [
    "parrot=pets[pets.Kind=='Parrot']\n",
    "parrot.sort_values(by='Age',ascending=False).head(2)"
   ]
  },
  {
   "cell_type": "markdown",
   "metadata": {},
   "source": [
    "### Q-6 How old is the oldest parrot? \n",
    "### Answer-6:  11 years"
   ]
  },
  {
   "cell_type": "code",
   "execution_count": 116,
   "metadata": {},
   "outputs": [
    {
     "data": {
      "text/plain": [
       "7.32258064516129"
      ]
     },
     "execution_count": 116,
     "metadata": {},
     "output_type": "execute_result"
    }
   ],
   "source": [
    "cats=pets[pets.Kind=='Cat']\n",
    "cats['Age'].mean()"
   ]
  },
  {
   "cell_type": "markdown",
   "metadata": {},
   "source": [
    "### Q-7: What is the mean age of cats? Keep answer in decimal format and round to the nearest hundredth (e.g. 0.75)\n",
    "\n",
    "\n",
    "### Answer-7: 7.32 years"
   ]
  },
  {
   "cell_type": "code",
   "execution_count": 117,
   "metadata": {},
   "outputs": [],
   "source": [
    "# subsetting the dataframe to just Kind and Age\n",
    "box=pets[['Kind','Age']]\n"
   ]
  },
  {
   "cell_type": "code",
   "execution_count": 147,
   "metadata": {},
   "outputs": [
    {
     "data": {
      "image/png": "[encoded data removed]",
      "text/plain": [
       "<Figure size 432x288 with 1 Axes>"
      ]
     },
     "metadata": {
      "needs_background": "light"
     },
     "output_type": "display_data"
    }
   ],
   "source": [
    "# Making the desired boxplot with Kind of pet and their age\n",
    "boxplot=sns.boxplot(x='Kind',y='Age',data=box, width=0.3)\n",
    "\n",
    "# Choosing colors as per the question\n",
    "custom_colors=[\"green\",\"purple\",\"orange\"]\n",
    "\n",
    "#Making a list of unique pet types\n",
    "pets_kind = box.Kind.unique().tolist()\n",
    "\n",
    "# Making a dictionary with unique pet Kind as key and color as value\n",
    "color_dict = dict(zip(pets_kind, custom_colors))\n",
    "\n",
    "# Using artist and set_facecolor functions in seaborn boxplot, iterating through each bar in boxplot to cutomize the color\n",
    "# -- of each box as per the dictionary we just made\n",
    "for i in range(0,3):\n",
    "    custom_box = boxplot.artists[i]\n",
    "    custom_box.set_facecolor(color_dict[pets_kind[i]])\n",
    "#plt.legend(edgecolor='b')\n",
    "#plt.show()"
   ]
  },
  {
   "cell_type": "markdown",
   "metadata": {},
   "source": [
    "## BONUS\n",
    "- Please upload a script with a user-defined function that accepts OwnerID as an input and returns a vector of pet names for the given OwnerID."
   ]
  },
  {
   "cell_type": "code",
   "execution_count": 70,
   "metadata": {},
   "outputs": [
    {
     "name": "stdout",
     "output_type": "stream",
     "text": [
      "Please enter Owner ID:\n",
      "1306\n",
      "Pets for OwnerID 1306: ['Danger', 'Collette']\n"
     ]
    }
   ],
   "source": [
    "def bonus_script(x):\n",
    "    import pandas\n",
    "    pets = pd.read_csv(r'C:\\Users\\nick2\\Desktop\\MS\\Denver Broncos\\pets.csv')\n",
    "    pet_names=pets[pets['OwnerID']==x].Name.to_list()\n",
    "    print('Pets for OwnerID {}: {}'.format(x,pet_names))\n",
    "print('Please enter Owner ID:')\n",
    "bonus_script(int(input()))"
   ]
  }
 ],
 "metadata": {
  "kernelspec": {
   "display_name": "Python 3",
   "language": "python",
   "name": "python3"
  },
  "language_info": {
   "codemirror_mode": {
    "name": "ipython",
    "version": 3
   },
   "file_extension": ".py",
   "mimetype": "text/x-python",
   "name": "python",
   "nbconvert_exporter": "python",
   "pygments_lexer": "ipython3",
   "version": "3.6.8"
  }
 },
 "nbformat": 4,
 "nbformat_minor": 2
}
